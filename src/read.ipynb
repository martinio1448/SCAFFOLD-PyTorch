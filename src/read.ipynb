{
 "cells": [
  {
   "cell_type": "code",
   "execution_count": 1,
   "metadata": {},
   "outputs": [
    {
     "name": "stdout",
     "output_type": "stream",
     "text": [
      "Collecting matplotlib\n",
      "  Obtaining dependency information for matplotlib from https://files.pythonhosted.org/packages/4f/d7/3303f11188122f66c940056f162d030992e7fbc9c702869bab163e85156b/matplotlib-3.7.2-cp311-cp311-manylinux_2_17_x86_64.manylinux2014_x86_64.whl.metadata\n",
      "  Downloading matplotlib-3.7.2-cp311-cp311-manylinux_2_17_x86_64.manylinux2014_x86_64.whl.metadata (5.6 kB)\n",
      "Collecting contourpy>=1.0.1 (from matplotlib)\n",
      "  Obtaining dependency information for contourpy>=1.0.1 from https://files.pythonhosted.org/packages/d8/23/8d968922459b1c8a2c6ffca28fac00324b06b3a0633be2a39b0b1c3f84ab/contourpy-1.1.0-cp311-cp311-manylinux_2_17_x86_64.manylinux2014_x86_64.whl.metadata\n",
      "  Downloading contourpy-1.1.0-cp311-cp311-manylinux_2_17_x86_64.manylinux2014_x86_64.whl.metadata (5.7 kB)\n",
      "Collecting cycler>=0.10 (from matplotlib)\n",
      "  Downloading cycler-0.11.0-py3-none-any.whl (6.4 kB)\n",
      "Collecting fonttools>=4.22.0 (from matplotlib)\n",
      "  Obtaining dependency information for fonttools>=4.22.0 from https://files.pythonhosted.org/packages/2c/35/5f4407acb9658fe93de10ac7998b22617c23ee9b51dada779cd9b66cfe99/fonttools-4.41.1-cp311-cp311-manylinux_2_17_x86_64.manylinux2014_x86_64.whl.metadata\n",
      "  Downloading fonttools-4.41.1-cp311-cp311-manylinux_2_17_x86_64.manylinux2014_x86_64.whl.metadata (150 kB)\n",
      "\u001b[2K     \u001b[90m━━━━━━━━━━━━━━━━━━━━━━━━━━━━━━━━━━━━━━\u001b[0m \u001b[32m150.0/150.0 kB\u001b[0m \u001b[31m13.5 MB/s\u001b[0m eta \u001b[36m0:00:00\u001b[0m\n",
      "\u001b[?25hCollecting kiwisolver>=1.0.1 (from matplotlib)\n",
      "  Downloading kiwisolver-1.4.4-cp311-cp311-manylinux_2_17_x86_64.manylinux2014_x86_64.whl (1.4 MB)\n",
      "\u001b[2K     \u001b[90m━━━━━━━━━━━━━━━━━━━━━━━━━━━━━━━━━━━━━━━━\u001b[0m \u001b[32m1.4/1.4 MB\u001b[0m \u001b[31m52.4 MB/s\u001b[0m eta \u001b[36m0:00:00\u001b[0m\n",
      "\u001b[?25hRequirement already satisfied: numpy>=1.20 in /home/motterbe/miniconda3/envs/torchEnv/lib/python3.11/site-packages (from matplotlib) (1.25.1)\n",
      "Requirement already satisfied: packaging>=20.0 in /home/motterbe/miniconda3/envs/torchEnv/lib/python3.11/site-packages (from matplotlib) (23.0)\n",
      "Requirement already satisfied: pillow>=6.2.0 in /home/motterbe/miniconda3/envs/torchEnv/lib/python3.11/site-packages (from matplotlib) (10.0.0)\n",
      "Collecting pyparsing<3.1,>=2.3.1 (from matplotlib)\n",
      "  Downloading pyparsing-3.0.9-py3-none-any.whl (98 kB)\n",
      "\u001b[2K     \u001b[90m━━━━━━━━━━━━━━━━━━━━━━━━━━━━━━━━━━━━━━━━\u001b[0m \u001b[32m98.3/98.3 kB\u001b[0m \u001b[31m25.4 MB/s\u001b[0m eta \u001b[36m0:00:00\u001b[0m\n",
      "\u001b[?25hRequirement already satisfied: python-dateutil>=2.7 in /home/motterbe/miniconda3/envs/torchEnv/lib/python3.11/site-packages (from matplotlib) (2.8.2)\n",
      "Requirement already satisfied: six>=1.5 in /home/motterbe/miniconda3/envs/torchEnv/lib/python3.11/site-packages (from python-dateutil>=2.7->matplotlib) (1.16.0)\n",
      "Downloading matplotlib-3.7.2-cp311-cp311-manylinux_2_17_x86_64.manylinux2014_x86_64.whl (11.6 MB)\n",
      "\u001b[2K   \u001b[90m━━━━━━━━━━━━━━━━━━━━━━━━━━━━━━━━━━━━━━━━\u001b[0m \u001b[32m11.6/11.6 MB\u001b[0m \u001b[31m73.2 MB/s\u001b[0m eta \u001b[36m0:00:00\u001b[0m00:01\u001b[0m0:01\u001b[0m\n",
      "\u001b[?25hDownloading contourpy-1.1.0-cp311-cp311-manylinux_2_17_x86_64.manylinux2014_x86_64.whl (300 kB)\n",
      "\u001b[2K   \u001b[90m━━━━━━━━━━━━━━━━━━━━━━━━━━━━━━━━━━━━━━━━\u001b[0m \u001b[32m300.4/300.4 kB\u001b[0m \u001b[31m46.5 MB/s\u001b[0m eta \u001b[36m0:00:00\u001b[0m\n",
      "\u001b[?25hDownloading fonttools-4.41.1-cp311-cp311-manylinux_2_17_x86_64.manylinux2014_x86_64.whl (4.9 MB)\n",
      "\u001b[2K   \u001b[90m━━━━━━━━━━━━━━━━━━━━━━━━━━━━━━━━━━━━━━━━\u001b[0m \u001b[32m4.9/4.9 MB\u001b[0m \u001b[31m68.7 MB/s\u001b[0m eta \u001b[36m0:00:00\u001b[0m00:01\u001b[0m00:01\u001b[0m\n",
      "\u001b[?25hInstalling collected packages: pyparsing, kiwisolver, fonttools, cycler, contourpy, matplotlib\n",
      "Successfully installed contourpy-1.1.0 cycler-0.11.0 fonttools-4.41.1 kiwisolver-1.4.4 matplotlib-3.7.2 pyparsing-3.0.9\n",
      "Note: you may need to restart the kernel to use updated packages.\n"
     ]
    }
   ],
   "source": [
    "pip install matplotlib"
   ]
  },
  {
   "cell_type": "code",
   "execution_count": 2,
   "metadata": {},
   "outputs": [],
   "source": [
    "import torch\n",
    "import os.path"
   ]
  },
  {
   "cell_type": "code",
   "execution_count": 18,
   "metadata": {},
   "outputs": [],
   "source": [
    "c_g = torch.load(\"../data/control_variates/control_variates_global_r22.pt\")\n",
    "c_l = torch.load(\"../data/control_variates/control_variates_c0_r22.pt\")"
   ]
  },
  {
   "cell_type": "code",
   "execution_count": 1,
   "metadata": {},
   "outputs": [
    {
     "ename": "NameError",
     "evalue": "name 'torch' is not defined",
     "output_type": "error",
     "traceback": [
      "\u001b[0;31m---------------------------------------------------------------------------\u001b[0m",
      "\u001b[0;31mNameError\u001b[0m                                 Traceback (most recent call last)",
      "Cell \u001b[0;32mIn[1], line 1\u001b[0m\n\u001b[0;32m----> 1\u001b[0m torch\u001b[39m.\u001b[39mcuda\u001b[39m.\u001b[39mis_available()\n",
      "\u001b[0;31mNameError\u001b[0m: name 'torch' is not defined"
     ]
    }
   ],
   "source": [
    "torch.cuda.is_available()"
   ]
  },
  {
   "cell_type": "code",
   "execution_count": 77,
   "metadata": {},
   "outputs": [],
   "source": [
    "def load_if_exists(path):\n",
    "    total_path = f\"../data/control_variates/{path}\"\n",
    "    if os.path.exists(total_path):\n",
    "        return torch.load(total_path, map_location=\"cpu\")\n",
    "    else:\n",
    "        return None\n",
    "\n",
    "\n",
    "variates = [[load_if_exists(f\"control_variates_c{client}_r{round}.pt\") for client in range(0,10)] for round in range(0,100)]\n",
    "c_g = [load_if_exists(f\"control_variates_global_r{round}.pt\")  for round in range(0,100)]"
   ]
  },
  {
   "cell_type": "code",
   "execution_count": 121,
   "metadata": {},
   "outputs": [],
   "source": [
    "def trySum(a, b):\n",
    "    if a is None or b is None:\n",
    "        return None\n",
    "    else:\n",
    "        return ((a-b)**2).sum()\n",
    "\n",
    "def tryMean(a,b):\n",
    "    if a is None or b is None:\n",
    "        return None\n",
    "    else:\n",
    "        comp = torch.stack([((global_layer-local_layer)**2).sum().sqrt() for (global_layer,local_layer) in zip(a, b)]).mean()\n",
    "        return comp\n",
    "\n",
    "diffs = [[tryMean(g, c_l) for c_l in c_ls] for (g, c_ls) in zip(c_g, variates)]\n",
    "offset_diffs = [[tryMean(c_g[i], c_l) for c_l in variates[i+1]] for i in range(0,98)]"
   ]
  },
  {
   "cell_type": "code",
   "execution_count": 122,
   "metadata": {},
   "outputs": [],
   "source": [
    "diffPerRound = [torch.stack([clientDif for clientDif in dif if clientDif is not None]).mean().item() for dif in diffs]\n",
    "max_dif = [torch.stack([clientDif for clientDif in dif if clientDif is not None]).max().item() for dif in diffs]\n",
    "offset_diff_mean = [torch.stack([clientDif for clientDif in dif if clientDif is not None]).mean().item() for dif in offset_diffs]\n",
    "offset_max_dif = [torch.stack([clientDif for clientDif in dif if clientDif is not None]).max().item() for dif in offset_diffs]"
   ]
  },
  {
   "cell_type": "code",
   "execution_count": 123,
   "metadata": {},
   "outputs": [
    {
     "data": {
      "text/plain": [
       "[0.7310591340065002,\n",
       " 0.895144522190094,\n",
       " 0.9322323799133301,\n",
       " 0.6374154090881348,\n",
       " 0.7960445880889893,\n",
       " 0.7033488750457764,\n",
       " 0.6843039989471436,\n",
       " 0.6746861934661865,\n",
       " 1.2071062326431274,\n",
       " 0.7149462699890137,\n",
       " 1.0662083625793457,\n",
       " 0.8229856491088867,\n",
       " 0.6972401738166809,\n",
       " 0.3747929334640503,\n",
       " 0.5531959533691406,\n",
       " 0.9749765396118164,\n",
       " 0.40487760305404663,\n",
       " 1.2773493528366089,\n",
       " 0.7292432188987732,\n",
       " 0.5316351652145386,\n",
       " 0.48376768827438354,\n",
       " 0.6232898831367493,\n",
       " 0.5371679067611694,\n",
       " 0.5309766530990601,\n",
       " 0.3852135241031647,\n",
       " 0.8959677219390869,\n",
       " 0.45713067054748535,\n",
       " 1.444394826889038,\n",
       " 0.8882113695144653,\n",
       " 0.5604596734046936,\n",
       " 3.055518865585327,\n",
       " 7.225100040435791,\n",
       " 1.5442578792572021,\n",
       " 1.467594027519226,\n",
       " 1.458723783493042,\n",
       " 1.4100110530853271,\n",
       " 1.436028003692627,\n",
       " 1.4509468078613281,\n",
       " 1.5205678939819336,\n",
       " 1.5650708675384521,\n",
       " 1.4666314125061035,\n",
       " 1.7794725894927979,\n",
       " 1.5246601104736328,\n",
       " 1.4678966999053955,\n",
       " 2.4815175533294678,\n",
       " 0.6836432218551636,\n",
       " 0.5410205125808716,\n",
       " 0.6734100580215454,\n",
       " 0.5791712999343872,\n",
       " 0.5109903216362,\n",
       " 1.5478086471557617,\n",
       " 0.4467719793319702,\n",
       " 4.199325084686279,\n",
       " 1.0211715698242188,\n",
       " 0.9737993478775024,\n",
       " 0.9250128269195557,\n",
       " 0.9007154703140259,\n",
       " 0.9192262291908264,\n",
       " 0.8970145583152771,\n",
       " 0.911532998085022,\n",
       " 0.9356421232223511,\n",
       " 1.229982614517212,\n",
       " 0.5699918866157532,\n",
       " 0.49545642733573914,\n",
       " 0.5001645088195801,\n",
       " 0.539817750453949,\n",
       " 0.5003573298454285,\n",
       " 0.39727821946144104,\n",
       " 0.42025619745254517,\n",
       " 0.36629363894462585,\n",
       " 0.6768531799316406,\n",
       " 0.4472547769546509,\n",
       " 0.9842989444732666,\n",
       " 0.41211941838264465,\n",
       " 0.47039055824279785,\n",
       " 0.36836135387420654,\n",
       " 0.35918933153152466,\n",
       " 0.4788799285888672,\n",
       " 0.355030357837677,\n",
       " 0.44494640827178955,\n",
       " 0.40059709548950195,\n",
       " 0.9205809831619263,\n",
       " 0.5795838832855225,\n",
       " 0.40967851877212524,\n",
       " 0.4185205101966858,\n",
       " 0.32399481534957886,\n",
       " 0.3222382664680481,\n",
       " 0.42148342728614807,\n",
       " 0.6816323399543762,\n",
       " 0.3619005084037781,\n",
       " 0.6628535985946655,\n",
       " 0.3290611505508423,\n",
       " 0.6725195646286011,\n",
       " 0.28416523337364197,\n",
       " 0.5294085741043091,\n",
       " 0.5154075026512146,\n",
       " 0.339973509311676,\n",
       " 0.41681838035583496]"
      ]
     },
     "execution_count": 123,
     "metadata": {},
     "output_type": "execute_result"
    }
   ],
   "source": [
    "offset_diff_mean"
   ]
  },
  {
   "cell_type": "code",
   "execution_count": 131,
   "metadata": {},
   "outputs": [
    {
     "data": {
      "image/png": "[encoded data removed]",
      "text/plain": [
       "<Figure size 640x480 with 1 Axes>"
      ]
     },
     "metadata": {},
     "output_type": "display_data"
    }
   ],
   "source": [
    "import matplotlib.pyplot as plt\n",
    "\n",
    "plt.yscale('log',base=2) \n",
    "plt.scatter(range(0,100), diffPerRound)\n",
    "plt.scatter(range(0,98), offset_diff_mean)\n",
    "plt.show()"
   ]
  },
  {
   "cell_type": "code",
   "execution_count": 133,
   "metadata": {},
   "outputs": [
    {
     "data": {
      "image/png": "[encoded data removed]",
      "text/plain": [
       "<Figure size 640x480 with 1 Axes>"
      ]
     },
     "metadata": {},
     "output_type": "display_data"
    }
   ],
   "source": [
    "plt.yscale('log',base=2)\n",
    "plt.scatter(range(0,100), max_dif)\n",
    "plt.scatter(range(0,98), offset_max_dif)\n",
    "plt.show()"
   ]
  },
  {
   "cell_type": "code",
   "execution_count": 44,
   "metadata": {},
   "outputs": [
    {
     "data": {
      "text/plain": [
       "[torch.Size([6, 1, 5, 5]),\n",
       " torch.Size([6]),\n",
       " torch.Size([16, 6, 5, 5]),\n",
       " torch.Size([16]),\n",
       " torch.Size([120, 256]),\n",
       " torch.Size([120]),\n",
       " torch.Size([84, 120]),\n",
       " torch.Size([84]),\n",
       " torch.Size([10, 84]),\n",
       " torch.Size([10])]"
      ]
     },
     "execution_count": 44,
     "metadata": {},
     "output_type": "execute_result"
    }
   ],
   "source": [
    "[c.shape for c in c_g]"
   ]
  },
  {
   "cell_type": "code",
   "execution_count": 71,
   "metadata": {},
   "outputs": [
    {
     "data": {
      "text/plain": [
       "[torch.Size([]),\n",
       " torch.Size([]),\n",
       " torch.Size([]),\n",
       " torch.Size([]),\n",
       " torch.Size([]),\n",
       " torch.Size([]),\n",
       " torch.Size([]),\n",
       " torch.Size([]),\n",
       " torch.Size([]),\n",
       " torch.Size([])]"
      ]
     },
     "execution_count": 71,
     "metadata": {},
     "output_type": "execute_result"
    }
   ],
   "source": [
    "diff = [((l-g)**2).sum() for l,g in combo]\n",
    "[t.shape for t in diff]\n"
   ]
  },
  {
   "cell_type": "code",
   "execution_count": 64,
   "metadata": {},
   "outputs": [
    {
     "data": {
      "text/plain": [
       "tensor(0.0034, device='cuda:6')"
      ]
     },
     "execution_count": 64,
     "metadata": {},
     "output_type": "execute_result"
    }
   ],
   "source": [
    "diff[9].data"
   ]
  }
 ],
 "metadata": {
  "kernelspec": {
   "display_name": "Python 3.10.6 64-bit",
   "language": "python",
   "name": "python3"
  },
  "language_info": {
   "codemirror_mode": {
    "name": "ipython",
    "version": 3
   },
   "file_extension": ".py",
   "mimetype": "text/x-python",
   "name": "python",
   "nbconvert_exporter": "python",
   "pygments_lexer": "ipython3",
   "version": "3.11.4"
  },
  "orig_nbformat": 4,
  "vscode": {
   "interpreter": {
    "hash": "916dbcbb3f70747c44a77c7bcd40155683ae19c65e1c03b4aa3499c5328201f1"
   }
  }
 },
 "nbformat": 4,
 "nbformat_minor": 2
}
